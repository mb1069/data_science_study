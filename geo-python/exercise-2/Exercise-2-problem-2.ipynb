{
 "cells": [
  {
   "cell_type": "markdown",
   "metadata": {
    "deletable": false,
    "editable": false,
    "tags": []
   },
   "source": [
    "## Problem 2: Points to map (7 points)\n",
    " \n",
    "In this task, we continue to learn how to create geometries from latitude and longitude coordinates.\n",
    "\n",
    "**Our aim is to plot a map of points, based on a set of longitude and latitude coordinates that are stored in a csv file.** \n",
    "\n",
    "The input data is stored in the CSV spreadsheet `some_posts.csv` in the directory `data`. The coordinates stored there are in WGS84 format (decimal degrees, EPSG:4326), and the first few rows of data look like this:\n",
    " \n",
    "```\n",
    "lat,lon,timestamp,userid\n",
    "-24.980792492,31.484633302,2015-07-07 03:02,66487960\n",
    "-25.499224667,31.508905612,2015-07-07 03:18,65281761\n",
    "-24.342578456,30.930866066,2015-03-07 03:38,90916112\n",
    "-24.85461393,31.519718439,2015-10-07 05:04,37959089\n",
    "```\n",
    "\n",
    "The data has 81379 rows and consists of locations and times of de-identified social media posts inside Kruger national park in South Africa:\n",
    "\n",
    "| Column | Description |\n",
    "|--------|-------------|\n",
    "| lat | y-coordinate of the post |\n",
    "| lon | x-coordinate of the post |\n",
    "| timestamp | Time when the post was uploaded |\n",
    "| userid | unique id for each user|\n",
    "\n",
    "*Note: Although the data is based on real social media data, the userids and timestamps have been randomized making it impossible to link the data to the original posts.*"
   ]
  },
  {
   "cell_type": "markdown",
   "metadata": {
    "deletable": false,
    "editable": false,
    "tags": []
   },
   "source": [
    "### a) Read the CSV file\n",
    "\n",
    "- Read the data from `some_posts.csv` into a Pandas dataframe called `data`"
   ]
  },
  {
   "cell_type": "code",
   "execution_count": 1,
   "metadata": {
    "collapsed": false,
    "jupyter": {
     "outputs_hidden": false
    }
   },
   "outputs": [],
   "source": [
    "# ADD YOUR OWN CODE HERE\n",
    "import pandas as pd\n",
    "\n",
    "data = pd.read_csv('./data/some_posts.csv')"
   ]
  },
  {
   "cell_type": "code",
   "execution_count": 2,
   "metadata": {
    "collapsed": false,
    "deletable": false,
    "editable": false,
    "jupyter": {
     "outputs_hidden": false
    }
   },
   "outputs": [
    {
     "name": "stdout",
     "output_type": "stream",
     "text": [
      "Number of rows: 81379\n"
     ]
    }
   ],
   "source": [
    "# NON-EDITABLE CODE CELL FOR TESTING YOUR SOLUTION\n",
    "\n",
    "# Check the result\n",
    "print(f\"Number of rows: {len(data)}\")"
   ]
  },
  {
   "cell_type": "markdown",
   "metadata": {
    "deletable": false,
    "editable": false,
    "tags": []
   },
   "source": [
    "### b) Add a geometry column and fill it with geometries\n",
    "\n",
    "- Create an empty column called `geometry` where you will store shapely Point objects\n",
    "- Insert Point objects into the column `geometry` based on the coordinate columns \n",
    "\n",
    "You want to create a `shapely.geometry.Point` *for each row*, based on the columns `lon` and `lat`.\n",
    "There are different approaches to this task, we encourage you to try to use the [`apply()` method](https://pandas.pydata.org/pandas-docs/stable/reference/api/pandas.DataFrame.apply.html) of the data frame, together with a *lambda function* (see the [**hints  for exercise 1**](https://autogis-site.readthedocs.io/en/latest/lessons/lesson-1/exercise-1.html), and the [**hints for this exercise**](https://autogis-site.readthedocs.io/en/latest/lessons/lesson-2/exercise-2.html))\n"
   ]
  },
  {
   "cell_type": "code",
   "execution_count": 3,
   "metadata": {},
   "outputs": [],
   "source": [
    "# ADD YOUR OWN CODE HERE\n",
    "from shapely.geometry import Point\n",
    "data['geometry'] = data.apply(lambda x: Point(x['lat'], x['lon']), axis=1)"
   ]
  },
  {
   "cell_type": "code",
   "execution_count": 4,
   "metadata": {
    "deletable": false,
    "editable": false
   },
   "outputs": [
    {
     "name": "stdout",
     "output_type": "stream",
     "text": [
      "0    POINT (-24.980792492 31.484633302)\n",
      "1    POINT (-25.499224667 31.508905612)\n",
      "2    POINT (-24.342578456 30.930866066)\n",
      "3     POINT (-24.85461393 31.519718439)\n",
      "4    POINT (-24.921068894 31.520835558)\n",
      "Name: geometry, dtype: object\n"
     ]
    }
   ],
   "source": [
    "# NON-EDITABLE CODE CELL FOR TESTING YOUR SOLUTION\n",
    "\n",
    "# Check the result\n",
    "print(data['geometry'].head())"
   ]
  },
  {
   "cell_type": "markdown",
   "metadata": {
    "deletable": false,
    "editable": false,
    "tags": []
   },
   "source": [
    "### c) Convert the `pandas.DataFrame` into a `geopandas.GeoDataFrame`\n",
    "\n",
    "- Convert `data` into a `geopandas.GeoDataFrame` using its [constructor](https://geopandas.org/reference/geopandas.GeoDataFrame.html). (*See [the hints for this exercise](https://autogis-site.readthedocs.io/en/latest/lessons/lesson-2/exercise-2.html) for additional instructions*)\n",
    "- Make sure that the resulting `GeoDataFrame` has a coordinate reference system defined"
   ]
  },
  {
   "cell_type": "code",
   "execution_count": 5,
   "metadata": {
    "collapsed": false,
    "jupyter": {
     "outputs_hidden": false
    }
   },
   "outputs": [],
   "source": [
    "# ADD YOUR OWN CODE HERE\n",
    "import geopandas as gpd\n",
    "data = gpd.GeoDataFrame(data, crs='EPSG:4326')"
   ]
  },
  {
   "cell_type": "code",
   "execution_count": 6,
   "metadata": {
    "collapsed": false,
    "deletable": false,
    "editable": false,
    "jupyter": {
     "outputs_hidden": false
    }
   },
   "outputs": [
    {
     "data": {
      "text/html": [
       "<div>\n",
       "<style scoped>\n",
       "    .dataframe tbody tr th:only-of-type {\n",
       "        vertical-align: middle;\n",
       "    }\n",
       "\n",
       "    .dataframe tbody tr th {\n",
       "        vertical-align: top;\n",
       "    }\n",
       "\n",
       "    .dataframe thead th {\n",
       "        text-align: right;\n",
       "    }\n",
       "</style>\n",
       "<table border=\"1\" class=\"dataframe\">\n",
       "  <thead>\n",
       "    <tr style=\"text-align: right;\">\n",
       "      <th></th>\n",
       "      <th>lat</th>\n",
       "      <th>lon</th>\n",
       "      <th>timestamp</th>\n",
       "      <th>userid</th>\n",
       "      <th>geometry</th>\n",
       "    </tr>\n",
       "  </thead>\n",
       "  <tbody>\n",
       "    <tr>\n",
       "      <th>0</th>\n",
       "      <td>-24.980792</td>\n",
       "      <td>31.484633</td>\n",
       "      <td>2015-07-07 03:02</td>\n",
       "      <td>66487960</td>\n",
       "      <td>POINT (-24.98079 31.48463)</td>\n",
       "    </tr>\n",
       "    <tr>\n",
       "      <th>1</th>\n",
       "      <td>-25.499225</td>\n",
       "      <td>31.508906</td>\n",
       "      <td>2015-07-07 03:18</td>\n",
       "      <td>65281761</td>\n",
       "      <td>POINT (-25.49922 31.50891)</td>\n",
       "    </tr>\n",
       "    <tr>\n",
       "      <th>2</th>\n",
       "      <td>-24.342578</td>\n",
       "      <td>30.930866</td>\n",
       "      <td>2015-03-07 03:38</td>\n",
       "      <td>90916112</td>\n",
       "      <td>POINT (-24.34258 30.93087)</td>\n",
       "    </tr>\n",
       "    <tr>\n",
       "      <th>3</th>\n",
       "      <td>-24.854614</td>\n",
       "      <td>31.519718</td>\n",
       "      <td>2015-10-07 05:04</td>\n",
       "      <td>37959089</td>\n",
       "      <td>POINT (-24.85461 31.51972)</td>\n",
       "    </tr>\n",
       "    <tr>\n",
       "      <th>4</th>\n",
       "      <td>-24.921069</td>\n",
       "      <td>31.520836</td>\n",
       "      <td>2015-10-07 05:19</td>\n",
       "      <td>27793716</td>\n",
       "      <td>POINT (-24.92107 31.52084)</td>\n",
       "    </tr>\n",
       "    <tr>\n",
       "      <th>...</th>\n",
       "      <td>...</td>\n",
       "      <td>...</td>\n",
       "      <td>...</td>\n",
       "      <td>...</td>\n",
       "      <td>...</td>\n",
       "    </tr>\n",
       "    <tr>\n",
       "      <th>81374</th>\n",
       "      <td>-24.799541</td>\n",
       "      <td>31.354469</td>\n",
       "      <td>2015-09-05 02:23</td>\n",
       "      <td>90744213</td>\n",
       "      <td>POINT (-24.79954 31.35447)</td>\n",
       "    </tr>\n",
       "    <tr>\n",
       "      <th>81375</th>\n",
       "      <td>-25.467992</td>\n",
       "      <td>30.956033</td>\n",
       "      <td>2015-02-05 02:40</td>\n",
       "      <td>71109799</td>\n",
       "      <td>POINT (-25.46799 30.95603)</td>\n",
       "    </tr>\n",
       "    <tr>\n",
       "      <th>81376</th>\n",
       "      <td>-25.332223</td>\n",
       "      <td>30.997409</td>\n",
       "      <td>2015-08-05 02:40</td>\n",
       "      <td>54796261</td>\n",
       "      <td>POINT (-25.33222 30.99741)</td>\n",
       "    </tr>\n",
       "    <tr>\n",
       "      <th>81377</th>\n",
       "      <td>-25.508851</td>\n",
       "      <td>31.005536</td>\n",
       "      <td>2015-08-05 02:43</td>\n",
       "      <td>78762204</td>\n",
       "      <td>POINT (-25.50885 31.00554)</td>\n",
       "    </tr>\n",
       "    <tr>\n",
       "      <th>81378</th>\n",
       "      <td>-25.498840</td>\n",
       "      <td>31.007430</td>\n",
       "      <td>2015-04-05 02:44</td>\n",
       "      <td>32190273</td>\n",
       "      <td>POINT (-25.49884 31.00743)</td>\n",
       "    </tr>\n",
       "  </tbody>\n",
       "</table>\n",
       "<p>81379 rows × 5 columns</p>\n",
       "</div>"
      ],
      "text/plain": [
       "             lat        lon         timestamp    userid  \\\n",
       "0     -24.980792  31.484633  2015-07-07 03:02  66487960   \n",
       "1     -25.499225  31.508906  2015-07-07 03:18  65281761   \n",
       "2     -24.342578  30.930866  2015-03-07 03:38  90916112   \n",
       "3     -24.854614  31.519718  2015-10-07 05:04  37959089   \n",
       "4     -24.921069  31.520836  2015-10-07 05:19  27793716   \n",
       "...          ...        ...               ...       ...   \n",
       "81374 -24.799541  31.354469  2015-09-05 02:23  90744213   \n",
       "81375 -25.467992  30.956033  2015-02-05 02:40  71109799   \n",
       "81376 -25.332223  30.997409  2015-08-05 02:40  54796261   \n",
       "81377 -25.508851  31.005536  2015-08-05 02:43  78762204   \n",
       "81378 -25.498840  31.007430  2015-04-05 02:44  32190273   \n",
       "\n",
       "                         geometry  \n",
       "0      POINT (-24.98079 31.48463)  \n",
       "1      POINT (-25.49922 31.50891)  \n",
       "2      POINT (-24.34258 30.93087)  \n",
       "3      POINT (-24.85461 31.51972)  \n",
       "4      POINT (-24.92107 31.52084)  \n",
       "...                           ...  \n",
       "81374  POINT (-24.79954 31.35447)  \n",
       "81375  POINT (-25.46799 30.95603)  \n",
       "81376  POINT (-25.33222 30.99741)  \n",
       "81377  POINT (-25.50885 31.00554)  \n",
       "81378  POINT (-25.49884 31.00743)  \n",
       "\n",
       "[81379 rows x 5 columns]"
      ]
     },
     "execution_count": 6,
     "metadata": {},
     "output_type": "execute_result"
    }
   ],
   "source": [
    "# NON-EDITABLE CODE CELL FOR TESTING YOUR SOLUTION\n",
    "data"
   ]
  },
  {
   "cell_type": "markdown",
   "metadata": {
    "deletable": false,
    "editable": false,
    "tags": []
   },
   "source": [
    "### d) Save the data in Shapefile format as `kruger_points.shp` inside the `data` directory"
   ]
  },
  {
   "cell_type": "code",
   "execution_count": 7,
   "metadata": {},
   "outputs": [],
   "source": [
    "# ADD YOUR OWN CODE HERE\n",
    "data.to_file('./data/kruger_points.shp')\n",
    "\n",
    "import pathlib\n",
    "DATA_DIRECTORY = pathlib.Path('./data')"
   ]
  },
  {
   "cell_type": "code",
   "execution_count": 8,
   "metadata": {
    "deletable": false,
    "editable": false
   },
   "outputs": [],
   "source": [
    "# NON-EDITABLE CODE CELL FOR TESTING YOUR SOLUTION\n",
    "\n",
    "# Check that the output file exists\n",
    "import pathlib\n",
    "assert pathlib.Path(DATA_DIRECTORY / \"kruger_points.shp\").exists()"
   ]
  },
  {
   "cell_type": "markdown",
   "metadata": {
    "deletable": false,
    "editable": false,
    "tags": []
   },
   "source": [
    "### e) Create a simple map of the points"
   ]
  },
  {
   "cell_type": "code",
   "execution_count": 15,
   "metadata": {
    "collapsed": false,
    "jupyter": {
     "outputs_hidden": false
    }
   },
   "outputs": [
    {
     "data": {
      "image/png": "[encoded data removed]",
      "text/plain": [
       "<Figure size 640x480 with 2 Axes>"
      ]
     },
     "metadata": {},
     "output_type": "display_data"
    }
   ],
   "source": [
    "import matplotlib\n",
    "# ADD YOUR OWN CODE HERE\n",
    "data_EPSG3035 = data.to_crs(\"EPSG:3035\")\n",
    "\n",
    "figure, (ax1, ax2) = matplotlib.pyplot.subplots(nrows=1, ncols=2)\n",
    "\n",
    "# Plot the original (WGS84, EPSG:4326) data set\n",
    "data_EPSG3035.plot(ax=ax1)\n",
    "ax1.set_title(\"EPSG:3035\")\n",
    "ax1.set_aspect(1)\n",
    "\n",
    "data.to_crs(\"WGS84\").plot(ax=ax2)\n",
    "ax2.set_title(\"WGS84\")\n",
    "ax2.set_aspect(1)"
   ]
  },
  {
   "cell_type": "markdown",
   "metadata": {
    "deletable": false,
    "editable": false
   },
   "source": [
    "\n",
    "### *Optional:* Download the output shapefile and create a map using a Desktop GIS\n",
    "\n",
    "For example, overlay the points with a basemap. Post the resulting map in the `#week2` slack channel."
   ]
  },
  {
   "cell_type": "markdown",
   "metadata": {
    "deletable": false,
    "editable": false
   },
   "source": [
    "\n",
    "---\n",
    "\n",
    "### Great job!\n",
    "\n",
    "You can move on to [Exercise-2-problem-3.ipynb](Exercise-2-problem-3.ipynb)."
   ]
  }
 ],
 "metadata": {
  "anaconda-cloud": {},
  "kernelspec": {
   "display_name": "Python 3 (ipykernel)",
   "language": "python",
   "name": "python3"
  },
  "language_info": {
   "codemirror_mode": {
    "name": "ipython",
    "version": 3
   },
   "file_extension": ".py",
   "mimetype": "text/x-python",
   "name": "python",
   "nbconvert_exporter": "python",
   "pygments_lexer": "ipython3",
   "version": "3.11.5"
  }
 },
 "nbformat": 4,
 "nbformat_minor": 4
}
