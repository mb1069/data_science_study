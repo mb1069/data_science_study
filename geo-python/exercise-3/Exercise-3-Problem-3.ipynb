{
 "cells": [
  {
   "cell_type": "markdown",
   "metadata": {
    "deletable": false,
    "slideshow": {
     "slide_type": ""
    },
    "tags": []
   },
   "source": [
    "## Problem 3: How many people live near shopping centers? (10 points)\n",
    "\n",
    "In the last step of this analysis, use a *spatial join* to relate data from a population grid data set to the buffer layer created in *problem 2* to find out how many people live in all population grid cells that are **within** 1.5 km distance from each shopping centre. \n",
    "\n",
    "Use the same population grid data set as during [lesson 3](https://autogis-site.readthedocs.io/en/latest/lessons/lesson-3/spatial-join.html) (load it directly from WFS, don’t forget to assign a CRS).\n",
    "\n",
    "\n",
    "*Feel free to divide your solution into more codeblocks than prepared! Remember to add comments to your code :)*"
   ]
  },
  {
   "cell_type": "markdown",
   "metadata": {
    "deletable": false,
    "editable": false,
    "slideshow": {
     "slide_type": ""
    },
    "tags": []
   },
   "source": [
    "### a) Load the population grid data set and the buffer geometries (2 points)\n",
    "\n",
    "Use the same population grid data set as during [lesson 3](https://autogis-site.readthedocs.io/en/latest/lessons/lesson-3/spatial-join.html) (load it directly from WFS, don’t forget to assign a CRS). Load the data into a `GeoDataFrame` called `population_grid`.\n",
    "\n",
    "(optional) If you want, discard unneeded columns and translate the remaining column names from Finnish to English."
   ]
  },
  {
   "cell_type": "code",
   "execution_count": 31,
   "metadata": {},
   "outputs": [],
   "source": [
    "# ADD YOUR OWN CODE HERE\n",
    "import geopandas as gpd\n",
    "population_grid = gpd.read_file(\n",
    "    (\n",
    "        \"https://kartta.hsy.fi/geoserver/wfs\"\n",
    "        \"?service=wfs\"\n",
    "        \"&version=2.0.0\"\n",
    "        \"&request=GetFeature\"\n",
    "        \"&typeName=asuminen_ja_maankaytto:Vaestotietoruudukko_2020\"\n",
    "        \"&srsName=EPSG:3879\"\n",
    "    ), \n",
    ")\n",
    "population_grid = population_grid.set_crs('EPSG:3879')\n",
    "\n",
    "population_grid = population_grid[[\"asukkaita\", \"geometry\"]]\n",
    "population_grid = population_grid.rename(columns={\"asukkaita\": \"population\"})"
   ]
  },
  {
   "cell_type": "code",
   "execution_count": 33,
   "metadata": {
    "deletable": false,
    "editable": false
   },
   "outputs": [],
   "source": [
    "# NON-EDITABLE CODE CELL FOR TESTING YOUR SOLUTION\n",
    "import geopandas\n",
    "import pyproj\n",
    "\n",
    "assert isinstance(population_grid, geopandas.GeoDataFrame)\n",
    "assert population_grid.crs == pyproj.CRS(\"EPSG:3879\")"
   ]
  },
  {
   "cell_type": "markdown",
   "metadata": {
    "deletable": false,
    "editable": false
   },
   "source": [
    "\n",
    "\n",
    "Load the buffers computed in *problem 2* into a `GeoDataFrame` called `shopping_centre_buffers`. Add an `assert` statement to check whether the two data frames are in the same CRS."
   ]
  },
  {
   "cell_type": "code",
   "execution_count": 34,
   "metadata": {},
   "outputs": [],
   "source": [
    "# ADD YOUR OWN CODE HERE\n",
    "shopping_centre_buffers = gpd.read_file('./data/shopping_centres.gpkg', layer='buffers')\n",
    "assert shopping_centre_buffers.crs == population_grid.crs"
   ]
  },
  {
   "cell_type": "code",
   "execution_count": 35,
   "metadata": {
    "deletable": false,
    "editable": false
   },
   "outputs": [],
   "source": [
    "# NON-EDITABLE CODE CELL FOR TESTING YOUR SOLUTION\n",
    "assert isinstance(shopping_centre_buffers, geopandas.GeoDataFrame)\n",
    "assert shopping_centre_buffers.geometry.geom_type.unique() == [\"Polygon\"]\n",
    "assert shopping_centre_buffers.crs == pyproj.CRS(\"EPSG:3879\")"
   ]
  },
  {
   "cell_type": "markdown",
   "metadata": {
    "deletable": false,
    "slideshow": {
     "slide_type": ""
    },
    "tags": []
   },
   "source": [
    "\n",
    "---\n",
    "\n",
    "### b) Carry out a *spatial join* between the `population_grid` and the `shopping_centre_buffers`  (4 points)\n",
    "\n",
    "Join the shopping centre’s `id` column (and others, if you want) to the population grid data frame, for all population grid cells that are **within** the buffer area of each shopping centre. [Use a *join-type* that retains only rows from both input data frames for which the geometric predicate is true](https://geopandas.org/en/stable/gallery/spatial_joins.html#Types-of-spatial-joins). \n"
   ]
  },
  {
   "cell_type": "code",
   "execution_count": 36,
   "metadata": {
    "editable": true,
    "slideshow": {
     "slide_type": ""
    },
    "tags": []
   },
   "outputs": [
    {
     "data": {
      "text/html": [
       "<div>\n",
       "<style scoped>\n",
       "    .dataframe tbody tr th:only-of-type {\n",
       "        vertical-align: middle;\n",
       "    }\n",
       "\n",
       "    .dataframe tbody tr th {\n",
       "        vertical-align: top;\n",
       "    }\n",
       "\n",
       "    .dataframe thead th {\n",
       "        text-align: right;\n",
       "    }\n",
       "</style>\n",
       "<table border=\"1\" class=\"dataframe\">\n",
       "  <thead>\n",
       "    <tr style=\"text-align: right;\">\n",
       "      <th></th>\n",
       "      <th>geometry</th>\n",
       "      <th>index_right</th>\n",
       "      <th>population</th>\n",
       "    </tr>\n",
       "  </thead>\n",
       "  <tbody>\n",
       "    <tr>\n",
       "      <th>0</th>\n",
       "      <td>POLYGON ((25496286.135 6672912.233, 25496286.1...</td>\n",
       "      <td>3392.0</td>\n",
       "      <td>303.0</td>\n",
       "    </tr>\n",
       "    <tr>\n",
       "      <th>1</th>\n",
       "      <td>POLYGON ((25496548.33 6672921.492, 25496548.32...</td>\n",
       "      <td>3438.0</td>\n",
       "      <td>133.0</td>\n",
       "    </tr>\n",
       "    <tr>\n",
       "      <th>2</th>\n",
       "      <td>POLYGON ((25496770.508 6672992.639, 25496770.5...</td>\n",
       "      <td>3486.0</td>\n",
       "      <td>12.0</td>\n",
       "    </tr>\n",
       "    <tr>\n",
       "      <th>3</th>\n",
       "      <td>POLYGON ((25497133.775 6672936.908, 25497133.7...</td>\n",
       "      <td>NaN</td>\n",
       "      <td>NaN</td>\n",
       "    </tr>\n",
       "    <tr>\n",
       "      <th>4</th>\n",
       "      <td>POLYGON ((25496993.975 6672784.27, 25496993.96...</td>\n",
       "      <td>3486.0</td>\n",
       "      <td>12.0</td>\n",
       "    </tr>\n",
       "  </tbody>\n",
       "</table>\n",
       "</div>"
      ],
      "text/plain": [
       "                                            geometry  index_right  population\n",
       "0  POLYGON ((25496286.135 6672912.233, 25496286.1...       3392.0       303.0\n",
       "1  POLYGON ((25496548.33 6672921.492, 25496548.32...       3438.0       133.0\n",
       "2  POLYGON ((25496770.508 6672992.639, 25496770.5...       3486.0        12.0\n",
       "3  POLYGON ((25497133.775 6672936.908, 25497133.7...          NaN         NaN\n",
       "4  POLYGON ((25496993.975 6672784.27, 25496993.96...       3486.0        12.0"
      ]
     },
     "execution_count": 36,
     "metadata": {},
     "output_type": "execute_result"
    }
   ],
   "source": [
    "# ADD YOUR OWN CODE HERE\n",
    "shopping_centres_pop_data = shopping_centre_buffers.sjoin(\n",
    "    population_grid,\n",
    "    how='left',\n",
    "    predicate='within'\n",
    ")\n",
    "shopping_centres_pop_data.head()"
   ]
  },
  {
   "cell_type": "markdown",
   "metadata": {
    "deletable": false,
    "slideshow": {
     "slide_type": ""
    },
    "tags": []
   },
   "source": [
    "\n",
    "---\n",
    "\n",
    "### c) Compute the population sum around shopping centres (4 points)\n",
    "\n",
    "Group the resulting (joint) data frame by shopping centre (`id` or `name`), and calculate the `sum()` of the population living inside the 1.5 km radius around them.\n",
    "\n",
    "Print the results, for instance, in the form \"12345 people live within 1.5 km from REDI\"."
   ]
  },
  {
   "cell_type": "code",
   "execution_count": 37,
   "metadata": {},
   "outputs": [],
   "source": [
    "shopping_centres = gpd.read_file('./data/shopping_centres.gpkg', layer='shopping_centres')\n",
    "del shopping_centres['geometry']\n",
    "data = gpd.pd.concat((shopping_centres, shopping_centres_pop_data), axis=1)\n",
    "\n"
   ]
  },
  {
   "cell_type": "code",
   "execution_count": 39,
   "metadata": {},
   "outputs": [
    {
     "name": "stdout",
     "output_type": "stream",
     "text": [
      "303 people live within 1.5 km from Kamppi Shopping Center\n",
      "133 people live within 1.5 km from Forum\n",
      "12 people live within 1.5 km from Citycenter\n",
      "0 people live within 1.5 km from Kluuvi\n",
      "12 people live within 1.5 km from Kämp Galleria\n",
      "0 people live within 1.5 km from Itis (Itäkeskus)\n",
      "647 people live within 1.5 km from REDI\n",
      "298 people live within 1.5 km from Kaari\n",
      "429 people live within 1.5 km from Columbus\n",
      "213 people live within 1.5 km from Ruoholahti\n",
      "1659 people live within 1.5 km from Arabia\n",
      "350 people live within 1.5 km from Malmin Nova\n",
      "384 people live within 1.5 km from Ogeli\n",
      "462 people live within 1.5 km from Hertsi\n",
      "188 people live within 1.5 km from Kontulan Ostari\n",
      "492 people live within 1.5 km from Lauttis\n",
      "534 people live within 1.5 km from Tripla Mall\n",
      "12 people live within 1.5 km from Stockmann Department Store\n",
      "307 people live within 1.5 km from Puhos Shopping Center\n",
      "45 people live within 1.5 km from Kaisaniemi Shopping Center\n"
     ]
    }
   ],
   "source": [
    "data.fillna(0, inplace=True)\n",
    "data['population'] = data['population'].astype(int)\n",
    "\n",
    "for row in data.to_dict(orient='records'):\n",
    "    print(f\"{row['population']} people live within 1.5 km from {row['name']}\")"
   ]
  },
  {
   "cell_type": "markdown",
   "metadata": {
    "deletable": false,
    "editable": false,
    "slideshow": {
     "slide_type": ""
    },
    "tags": []
   },
   "source": [
    "\n",
    "---\n",
    "\n",
    "### d) Reflection\n",
    "\n",
    "Good job! You are almost done with this week’s exercise. Please quickly answer the following short questions:\n",
    "    \n",
    "- How challenging did you find problems 1-3 (on scale to 1-5), and why?\n",
    "- What was easy?\n",
    "- What was difficult?\n",
    "\n",
    "Add your answers in a new *Markdown* cell below:"
   ]
  },
  {
   "cell_type": "code",
   "execution_count": null,
   "metadata": {
    "editable": true,
    "slideshow": {
     "slide_type": ""
    },
    "tags": []
   },
   "outputs": [],
   "source": [
    "easy!"
   ]
  }
 ],
 "metadata": {
  "anaconda-cloud": {},
  "kernelspec": {
   "display_name": "Python 3 (ipykernel)",
   "language": "python",
   "name": "python3"
  },
  "language_info": {
   "codemirror_mode": {
    "name": "ipython",
    "version": 3
   },
   "file_extension": ".py",
   "mimetype": "text/x-python",
   "name": "python",
   "nbconvert_exporter": "python",
   "pygments_lexer": "ipython3",
   "version": "3.11.5"
  }
 },
 "nbformat": 4,
 "nbformat_minor": 4
}
