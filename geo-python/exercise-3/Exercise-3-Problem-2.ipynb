{
 "cells": [
  {
   "cell_type": "markdown",
   "metadata": {
    "deletable": false,
    "editable": false,
    "slideshow": {
     "slide_type": ""
    },
    "tags": []
   },
   "source": [
    "## Problem 2: Create buffers around shopping centers (3 points)\n",
    "\n",
    "Let’s continue with our case study and calculate a 1.5 km buffer around the geocoded points. "
   ]
  },
  {
   "cell_type": "markdown",
   "metadata": {
    "deletable": false,
    "editable": false,
    "slideshow": {
     "slide_type": ""
    },
    "tags": []
   },
   "source": [
    "### a) Load the shopping centre data set (1 point)\n",
    "\n",
    "First, load the shopping centre *point* data set you created in *problem 1* into a `GeoDataFrame` called `shopping_centres`."
   ]
  },
  {
   "cell_type": "code",
   "execution_count": 7,
   "metadata": {
    "editable": true,
    "slideshow": {
     "slide_type": ""
    },
    "tags": []
   },
   "outputs": [],
   "source": [
    "# ADD YOUR OWN CODE HERE\n",
    "import geopandas as gpd\n",
    "\n",
    "shopping_centres = gpd.GeoDataFrame.from_file('./data/shopping_centres.gpkg')"
   ]
  },
  {
   "cell_type": "markdown",
   "metadata": {
    "deletable": false,
    "slideshow": {
     "slide_type": ""
    },
    "tags": []
   },
   "source": [
    "\n",
    "---\n",
    "\n",
    "### b) Create a *buffer* around the points (1 points)\n",
    "\n",
    "Calculate a 1.5 km buffer for each geocoded point. Overwrite the `geometry` column with the new buffer geometry.\n",
    "\n",
    "Use the [`geopandas.GeoDataFrame.buffer()` method](http://geopandas.org/geometric_manipulations.html#GeoSeries.buffer), that uses shapely’s [`buffer()`](http://toblerity.org/shapely/manual.html#object.buffer) in the background. You only need to care about the `distance` parameter, don’t worry about the possible other arguments."
   ]
  },
  {
   "cell_type": "code",
   "execution_count": 8,
   "metadata": {},
   "outputs": [],
   "source": [
    "dist = 1.5\n",
    "shopping_centres = shopping_centres.buffer(dist)\n"
   ]
  },
  {
   "cell_type": "code",
   "execution_count": 9,
   "metadata": {},
   "outputs": [
    {
     "data": {
      "text/plain": [
       "0     POLYGON ((25496286.135 6672912.233, 25496286.1...\n",
       "1     POLYGON ((25496548.33 6672921.492, 25496548.32...\n",
       "2     POLYGON ((25496770.508 6672992.639, 25496770.5...\n",
       "3     POLYGON ((25497133.775 6672936.908, 25497133.7...\n",
       "4     POLYGON ((25496993.975 6672784.27, 25496993.96...\n",
       "5     POLYGON ((25504509.8 6677577.003, 25504509.793...\n",
       "6     POLYGON ((25498872.634 6674888.258, 25498872.6...\n",
       "7     POLYGON ((25493986.843 6680532.312, 25493986.8...\n",
       "8     POLYGON ((25508056.706 6677173.368, 25508056.6...\n",
       "9     POLYGON ((25495054.176 6672302.008, 25495054.1...\n",
       "10    POLYGON ((25498287.491 6676696.66, 25498287.48...\n",
       "11    POLYGON ((25500764.805 6682103.843, 25500764.7...\n",
       "12    POLYGON ((25497998.013 6679511.575, 25497998.0...\n",
       "13    POLYGON ((25501933.17 6675675.354, 25501933.16...\n",
       "14    POLYGON ((25504764.11 6680380.111, 25504764.10...\n",
       "15    POLYGON ((25493036.856 6672023.893, 25493036.8...\n",
       "16    POLYGON ((25496194.234 6676158.016, 25496194.2...\n",
       "17    POLYGON ((25496786.183 6672825.213, 25496786.1...\n",
       "18    POLYGON ((25504476.334 6677871.657, 25504476.3...\n",
       "19    POLYGON ((25496986.725 6673095.748, 25496986.7...\n",
       "dtype: geometry"
      ]
     },
     "execution_count": 9,
     "metadata": {},
     "output_type": "execute_result"
    }
   ],
   "source": [
    "shopping_centres"
   ]
  },
  {
   "cell_type": "code",
   "execution_count": 10,
   "metadata": {
    "deletable": false,
    "editable": false
   },
   "outputs": [],
   "source": [
    "# NON-EDITABLE CODE CELL FOR TESTING YOUR SOLUTION\n",
    "assert shopping_centres.geometry.geom_type.unique() == [\"Polygon\"]"
   ]
  },
  {
   "cell_type": "markdown",
   "metadata": {
    "deletable": false,
    "editable": false
   },
   "source": [
    "\n",
    "---\n",
    "\n",
    "### d) Save buffer geometry layer (1 point)\n",
    "\n",
    "Save the data frame containing the buffer geometries into a new layer `buffers` inside the same *GeoPackage* `shopping_centres.gpkg`:"
   ]
  },
  {
   "cell_type": "code",
   "execution_count": 11,
   "metadata": {},
   "outputs": [],
   "source": [
    "# ADD YOUR OWN CODE HERE\n",
    "\n",
    "shopping_centres.to_file('./data/shopping_centres.gpkg', layer='buffers')"
   ]
  },
  {
   "cell_type": "code",
   "execution_count": null,
   "metadata": {},
   "outputs": [],
   "source": []
  }
 ],
 "metadata": {
  "anaconda-cloud": {},
  "kernelspec": {
   "display_name": "Python 3 (ipykernel)",
   "language": "python",
   "name": "python3"
  },
  "language_info": {
   "codemirror_mode": {
    "name": "ipython",
    "version": 3
   },
   "file_extension": ".py",
   "mimetype": "text/x-python",
   "name": "python",
   "nbconvert_exporter": "python",
   "pygments_lexer": "ipython3",
   "version": "3.11.5"
  }
 },
 "nbformat": 4,
 "nbformat_minor": 4
}
